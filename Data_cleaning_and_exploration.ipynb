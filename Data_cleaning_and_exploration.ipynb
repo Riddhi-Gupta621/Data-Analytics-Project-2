{
 "cells": [
  {
   "cell_type": "code",
   "execution_count": 128,
   "id": "1aa4b03d-bbf1-4c24-995a-3ded88efc589",
   "metadata": {},
   "outputs": [],
   "source": [
    "import pandas as pd\n",
    "import numpy as np"
   ]
  },
  {
   "cell_type": "code",
   "execution_count": null,
   "id": "a736f4ba-cc2a-43a9-8376-339ed0e02ba5",
   "metadata": {},
   "outputs": [],
   "source": [
    "df_raw=r\"G:\\New project2\\Supermarket.xlsx\"\n",
    "rawfile=pd.read_excel(r\"G:\\New project2\\Supermarket.xlsx\", sheet_name=\"Orders\")"
   ]
  },
  {
   "cell_type": "code",
   "execution_count": null,
   "id": "bf640726-db1e-4a4d-952a-cd5dab4aaaaf",
   "metadata": {},
   "outputs": [],
   "source": [
    "import pandas as pd\n",
    "rawfile_returns=pd.read_excel(r\"G:\\New project2\\Supermarket.xlsx\", sheet_name=\"Returns\")\n",
    "rawfile_people=pd.read_excel(r\"G:\\New project2\\Supermarket.xlsx\", sheet_name=\"People\")"
   ]
  },
  {
   "cell_type": "code",
   "execution_count": null,
   "id": "51bbf7b5-59bf-4960-9139-17cda5438bbc",
   "metadata": {},
   "outputs": [],
   "source": [
    "print(rawfile['Order Date'].head())\n",
    "print(rawfile['Order Date'].dtype)"
   ]
  },
  {
   "cell_type": "code",
   "execution_count": null,
   "id": "28ade3dc-c1ba-4dc0-a6bf-f400bea624d2",
   "metadata": {},
   "outputs": [],
   "source": [
    "import pandas as pd\n",
    "\n",
    "# Convert Excel serial numbers to datetime\n",
    "rawfile['Order Date'] = pd.to_datetime('1899-12-30') + pd.to_timedelta(rawfile['Order Date'], unit='D')\n"
   ]
  },
  {
   "cell_type": "code",
   "execution_count": null,
   "id": "de74eb05-ba49-49db-b204-47fb9209f936",
   "metadata": {},
   "outputs": [],
   "source": [
    "rawfile['Order Date'].apply(type).value_counts()\n"
   ]
  },
  {
   "cell_type": "code",
   "execution_count": null,
   "id": "907ce7d5-33c3-49c8-bd7e-4b28bc6c083d",
   "metadata": {},
   "outputs": [],
   "source": [
    "rawfile['Order Date'].dtype"
   ]
  },
  {
   "cell_type": "code",
   "execution_count": null,
   "id": "a20b7abe-25ff-4700-a615-a3adcd80cd3b",
   "metadata": {},
   "outputs": [],
   "source": [
    "\n",
    "rawfile['Ship Date'] = pd.to_datetime(rawfile['Ship Date'], origin='1899-12-30', unit='D')\n"
   ]
  },
  {
   "cell_type": "code",
   "execution_count": null,
   "id": "7dd01fdc-c52c-4771-a3ca-26200ed6105d",
   "metadata": {},
   "outputs": [],
   "source": [
    "rawfile['Ship Date'].dtype"
   ]
  },
  {
   "cell_type": "code",
   "execution_count": null,
   "id": "4c84ab9d-f5d3-4d87-9d07-7940bf8a04d8",
   "metadata": {},
   "outputs": [],
   "source": [
    "# Date-based columns\n",
    "rawfile['Order Year'] = rawfile['Order Date'].dt.year\n",
    "rawfile['Order Month'] = rawfile['Order Date'].dt.month\n",
    "rawfile['Order Weekday'] = rawfile['Order Date'].dt.day_name()\n"
   ]
  },
  {
   "cell_type": "code",
   "execution_count": null,
   "id": "6fa57732-acd8-4d33-9ec8-b56ab22a2d10",
   "metadata": {},
   "outputs": [],
   "source": [
    "rawfile['Ship Days'] = (rawfile['Ship Date'] - rawfile['Order Date']).dt.days"
   ]
  },
  {
   "cell_type": "code",
   "execution_count": null,
   "id": "72825d9f-f6ae-4596-be98-2e23e9ab611c",
   "metadata": {},
   "outputs": [],
   "source": [
    "rawfile['Returned'] = rawfile['Order ID'].isin(rawfile_returns['Order ID']).astype(int)  # 1 if returned else 0\n",
    "rawfile['High Discount'] = (rawfile['Discount'] > 0.3).astype(int)  # example: flag discounts >30%\n",
    "rawfile['Profitable'] = (rawfile['Profit'] > 0).astype(int) "
   ]
  },
  {
   "cell_type": "code",
   "execution_count": null,
   "id": "aabef8d1-4085-4fc7-9ebf-e4cd0f253a53",
   "metadata": {},
   "outputs": [],
   "source": [
    "print(rawfile[['Order ID','Discount','Profit','Returned','High Discount','Profitable']].head(10))"
   ]
  },
  {
   "cell_type": "code",
   "execution_count": null,
   "id": "c192ec59-dd0c-4ce7-8453-235407d812bd",
   "metadata": {},
   "outputs": [],
   "source": [
    "rawfile = rawfile.drop_duplicates()"
   ]
  },
  {
   "cell_type": "code",
   "execution_count": null,
   "id": "115fc2a2-1c32-4543-95a1-475c155ab45c",
   "metadata": {},
   "outputs": [],
   "source": [
    "rawfile_returns = rawfile_returns.drop_duplicates()"
   ]
  },
  {
   "cell_type": "code",
   "execution_count": null,
   "id": "7f93ef90-5f0e-498f-9950-f4c691a77083",
   "metadata": {},
   "outputs": [],
   "source": [
    "rawfile = rawfile.map(lambda x: x.strip() if isinstance(x, str) else x)\n",
    "rawfile_returns = rawfile_returns.map(lambda x: x.strip() if isinstance(x, str) else x)\n",
    "rawfile_people = rawfile_people.map(lambda x: x.strip() if isinstance(x, str) else x)\n"
   ]
  },
  {
   "cell_type": "code",
   "execution_count": null,
   "id": "dabb27ef-d0e2-4d99-bde1-75c54c6de8c6",
   "metadata": {},
   "outputs": [],
   "source": [
    "print(rawfile.isnull().sum())\n",
    "print(rawfile_returns.isnull().sum())\n",
    "print(rawfile_people.isnull().sum())"
   ]
  },
  {
   "cell_type": "code",
   "execution_count": null,
   "id": "74d329d1-ac74-4330-91f8-72eb29968380",
   "metadata": {},
   "outputs": [],
   "source": [
    "print(\"Postal Code nulls:\", rawfile['Postal Code'].isna().sum())"
   ]
  },
  {
   "cell_type": "code",
   "execution_count": null,
   "id": "61ea57d7-e680-49b3-9e02-e082208b9fff",
   "metadata": {},
   "outputs": [],
   "source": [
    "\n",
    "empty_rows = rawfile[rawfile.isna().all(axis=1)]\n",
    "print(\"Fully empty rows:\", empty_rows.shape[0])"
   ]
  },
  {
   "cell_type": "code",
   "execution_count": null,
   "id": "d90b0286-4ebe-46ce-9470-b78caee9cf8d",
   "metadata": {},
   "outputs": [],
   "source": [
    "critical_cols = ['Order ID', 'Order Date', 'Ship Date', 'Customer ID', 'Sales']\n",
    "print(\"Null values in critical columns:\")\n",
    "print(rawfile[critical_cols].isnull().sum())"
   ]
  },
  {
   "cell_type": "code",
   "execution_count": null,
   "id": "ed0fa9af-1a4e-4231-96f7-382287d2d6ef",
   "metadata": {},
   "outputs": [],
   "source": [
    "missing_critical = rawfile[rawfile[critical_cols].isnull().any(axis=1)]\n",
    "print(\"Rows with missing critical values:\", missing_critical.shape[0])"
   ]
  },
  {
   "cell_type": "code",
   "execution_count": null,
   "id": "275711f2-6a6f-4f3a-9e5e-30af838947cb",
   "metadata": {},
   "outputs": [],
   "source": [
    "merged = rawfile.merge( rawfile_returns, on=\"Order ID\",how=\"left\")\n"
   ]
  },
  {
   "cell_type": "code",
   "execution_count": null,
   "id": "9957a271-c3f5-481e-8ba1-66c0434d6b3d",
   "metadata": {},
   "outputs": [],
   "source": [
    "merged"
   ]
  },
  {
   "cell_type": "code",
   "execution_count": null,
   "id": "0aad84a8-f54e-4633-87d1-f8eddd7cd048",
   "metadata": {},
   "outputs": [],
   "source": [
    "final = merged.merge( rawfile_people, on=\"Region\", how=\"left\")"
   ]
  },
  {
   "cell_type": "code",
   "execution_count": null,
   "id": "9c47b6ab-0a34-43c8-85a2-17940a1e845e",
   "metadata": {},
   "outputs": [],
   "source": [
    "print(\"After merging with People:\", final.shape)"
   ]
  },
  {
   "cell_type": "code",
   "execution_count": null,
   "id": "3c345dc3-3b63-4372-a1d3-78d8a48165fa",
   "metadata": {},
   "outputs": [],
   "source": [
    "final"
   ]
  },
  {
   "cell_type": "code",
   "execution_count": null,
   "id": "d7435c1d-b25b-4a17-bc20-4da05221f917",
   "metadata": {},
   "outputs": [],
   "source": [
    "print(final[[\"Order ID\", \"Returned_x\", \"Region\", \"Person\"]].head())"
   ]
  },
  {
   "cell_type": "code",
   "execution_count": null,
   "id": "51ce4f67-f0f7-4652-a279-97598aa444ce",
   "metadata": {},
   "outputs": [],
   "source": [
    "# First few rows\n",
    "merged.head()"
   ]
  },
  {
   "cell_type": "code",
   "execution_count": null,
   "id": "ab3aa4ab-9529-4e99-8711-28476ea27bb6",
   "metadata": {},
   "outputs": [],
   "source": [
    "import calendar\n",
    "final['Order Month Name'] = final['Order Month'].apply(lambda x: calendar.month_name[int(x)] if pd.notnull(x) else x)\n",
    "final[['Order Month', 'Order Month Name']].head(12)"
   ]
  },
  {
   "cell_type": "code",
   "execution_count": null,
   "id": "c532d324-2085-44b7-8f7c-23ae29e08eec",
   "metadata": {},
   "outputs": [],
   "source": [
    "months_order = list(calendar.month_name)[1:]  # ['January', 'February', ... , 'December']\n",
    "\n",
    "final['Order Month Name'] = pd.Categorical(\n",
    "    final['Order Month Name'],\n",
    "    categories=months_order,\n",
    "    ordered=True\n",
    ")"
   ]
  },
  {
   "cell_type": "code",
   "execution_count": null,
   "id": "28a5f334-1de4-457c-b816-77576d03c8f7",
   "metadata": {},
   "outputs": [],
   "source": [
    "final = final.drop(columns=['Order Month'])"
   ]
  },
  {
   "cell_type": "code",
   "execution_count": null,
   "id": "18456dbc-6260-4377-b718-49f9896bf4cf",
   "metadata": {},
   "outputs": [],
   "source": [
    "final = final.drop(columns=[\"Person\"]) "
   ]
  },
  {
   "cell_type": "code",
   "execution_count": null,
   "id": "e1ce00f9-83f1-44ef-98db-4dee6946b377",
   "metadata": {},
   "outputs": [],
   "source": [
    "# Shape of dataset\n",
    "print(\"Rows:\", final.shape[0])\n",
    "print(\"Columns:\", final.shape[1])"
   ]
  },
  {
   "cell_type": "code",
   "execution_count": null,
   "id": "5b48f1be-d231-4f7b-aa50-98465fd61921",
   "metadata": {},
   "outputs": [],
   "source": [
    "# Column names and data types\n",
    "print(\"\\nColumn Info:\")\n",
    "print(final.dtypes)"
   ]
  },
  {
   "cell_type": "code",
   "execution_count": null,
   "id": "5dbe51e8-ef41-4f5e-992c-54d6a3fe82fc",
   "metadata": {},
   "outputs": [],
   "source": [
    "# Count missing values\n",
    "final.isnull().sum()\n",
    "\n",
    "# Percentage of missing values\n",
    "#(final.isnull().mean() * 100).round(2)"
   ]
  },
  {
   "cell_type": "code",
   "execution_count": null,
   "id": "e10c0bb3-6722-4698-ac6b-7fff08ddf41f",
   "metadata": {},
   "outputs": [],
   "source": [
    "final"
   ]
  },
  {
   "cell_type": "code",
   "execution_count": null,
   "id": "9b536fb9-4230-40dc-968a-e142a7ffee54",
   "metadata": {},
   "outputs": [],
   "source": [
    "final=final.drop(columns=['Returned_x'])\n",
    "final=final.rename(columns={'Returned_y':'Returned'})"
   ]
  },
  {
   "cell_type": "code",
   "execution_count": 173,
   "id": "4edc43c5-9f78-4743-8d94-12ba5ab70f54",
   "metadata": {},
   "outputs": [],
   "source": [
    "final=final.drop(columns=['Market_y'])\n",
    "final=final.rename(columns={'Market_x':'Market'})"
   ]
  },
  {
   "cell_type": "code",
   "execution_count": null,
   "id": "b858607b-28a3-438d-adae-7e4683cb0fc3",
   "metadata": {},
   "outputs": [],
   "source": [
    "final = final.rename(columns={'Person': 'Customers_returned'})"
   ]
  },
  {
   "cell_type": "code",
   "execution_count": null,
   "id": "fc2848d5-9b39-42b8-8d0d-d923457875f4",
   "metadata": {},
   "outputs": [],
   "source": [
    "\n",
    "cols = list(final.columns)\n",
    "\n",
    "cols.insert(cols.index(\"Order Date\")+1, cols.pop(cols.index(\"Order Month Name\")))\n",
    "cols.insert(cols.index(\"Order Date\")+2, cols.pop(cols.index(\"Order Weekday\")))\n",
    "cols.insert(cols.index(\"Order Date\")+3, cols.pop(cols.index(\"Order Year\")))\n",
    "\n",
    "final = final[cols]\n"
   ]
  },
  {
   "cell_type": "code",
   "execution_count": null,
   "id": "36a915a3-7ef8-4bfa-9fa3-ad5569f7f1b6",
   "metadata": {},
   "outputs": [],
   "source": [
    "final['Returned'] = final['Returned'].fillna('No')"
   ]
  },
  {
   "cell_type": "code",
   "execution_count": null,
   "id": "b8f40f07-d9f3-4ebf-9efc-6b1272890bb1",
   "metadata": {},
   "outputs": [],
   "source": [
    "#Checking Unique Values in Key Columns\n",
    "print(\"Unique Order IDs:\", final['Order ID'].nunique())\n",
    "print(\"Unique Customers:\", final['Customer ID'].nunique())\n",
    "print(\"Unique Products:\", final['Product Name'].nunique())\n",
    "print(\"Unique Regions:\", final['Region'].unique())\n",
    "print(\"Unique Categories:\", final['Category'].unique())"
   ]
  },
  {
   "cell_type": "code",
   "execution_count": null,
   "id": "ada0cf4c-1b66-402c-89ae-62cd13f7413c",
   "metadata": {},
   "outputs": [],
   "source": [
    "# Numerical summary\n",
    "final.describe()\n",
    "\n",
    "# Categorical summary\n",
    "final.describe(include=\"object\")\n"
   ]
  },
  {
   "cell_type": "code",
   "execution_count": null,
   "id": "86a8a022-ff67-41b9-a76d-b8bc5a6e4dba",
   "metadata": {},
   "outputs": [],
   "source": [
    "# Time range of orders\n",
    "print(\"Order Date range:\", final['Order Date'].min(), \"to\", final['Order Date'].max())\n",
    "\n",
    "# Average shipping delay\n",
    "(final['Ship Date'] - final['Order Date']).dt.days.describe()\n",
    "\n",
    "# Return percentage\n",
    "return_rate = final['Returned'].mean() * 100\n",
    "print(\"Return Rate:\", return_rate, \"%\")\n"
   ]
  },
  {
   "cell_type": "code",
   "execution_count": 175,
   "id": "2dc06630-ca27-4aea-a0db-381e601b7a5a",
   "metadata": {},
   "outputs": [],
   "source": [
    "# Export to CSV\n",
    "import os\n",
    "os.getcwd()\n",
    "\n",
    "final.to_csv(r\"G:\\New project2\\final_superstore.csv\", index=False)"
   ]
  },
  {
   "cell_type": "code",
   "execution_count": 174,
   "id": "62bb8130-d342-45cf-a5ec-075c7fddcaf3",
   "metadata": {},
   "outputs": [
    {
     "data": {
      "text/html": [
       "<div>\n",
       "<style scoped>\n",
       "    .dataframe tbody tr th:only-of-type {\n",
       "        vertical-align: middle;\n",
       "    }\n",
       "\n",
       "    .dataframe tbody tr th {\n",
       "        vertical-align: top;\n",
       "    }\n",
       "\n",
       "    .dataframe thead th {\n",
       "        text-align: right;\n",
       "    }\n",
       "</style>\n",
       "<table border=\"1\" class=\"dataframe\">\n",
       "  <thead>\n",
       "    <tr style=\"text-align: right;\">\n",
       "      <th></th>\n",
       "      <th>Row ID</th>\n",
       "      <th>Order ID</th>\n",
       "      <th>Order Date</th>\n",
       "      <th>Order Month Name</th>\n",
       "      <th>Order Weekday</th>\n",
       "      <th>Order Year</th>\n",
       "      <th>Ship Date</th>\n",
       "      <th>Ship Mode</th>\n",
       "      <th>Customer ID</th>\n",
       "      <th>Customer Name</th>\n",
       "      <th>...</th>\n",
       "      <th>Sales</th>\n",
       "      <th>Quantity</th>\n",
       "      <th>Discount</th>\n",
       "      <th>Profit</th>\n",
       "      <th>Shipping Cost</th>\n",
       "      <th>Order Priority</th>\n",
       "      <th>Ship Days</th>\n",
       "      <th>High Discount</th>\n",
       "      <th>Profitable</th>\n",
       "      <th>Returned</th>\n",
       "    </tr>\n",
       "  </thead>\n",
       "  <tbody>\n",
       "    <tr>\n",
       "      <th>0</th>\n",
       "      <td>32298</td>\n",
       "      <td>CA-2012-124891</td>\n",
       "      <td>2012-07-31</td>\n",
       "      <td>July</td>\n",
       "      <td>Tuesday</td>\n",
       "      <td>2012</td>\n",
       "      <td>2012-07-31</td>\n",
       "      <td>Same Day</td>\n",
       "      <td>RH-19495</td>\n",
       "      <td>Rick Hansen</td>\n",
       "      <td>...</td>\n",
       "      <td>2309.650</td>\n",
       "      <td>7</td>\n",
       "      <td>0.0</td>\n",
       "      <td>762.1845</td>\n",
       "      <td>933.570</td>\n",
       "      <td>Critical</td>\n",
       "      <td>0</td>\n",
       "      <td>0</td>\n",
       "      <td>1</td>\n",
       "      <td>No</td>\n",
       "    </tr>\n",
       "    <tr>\n",
       "      <th>1</th>\n",
       "      <td>26341</td>\n",
       "      <td>IN-2013-77878</td>\n",
       "      <td>2013-02-05</td>\n",
       "      <td>February</td>\n",
       "      <td>Tuesday</td>\n",
       "      <td>2013</td>\n",
       "      <td>2013-02-07</td>\n",
       "      <td>Second Class</td>\n",
       "      <td>JR-16210</td>\n",
       "      <td>Justin Ritter</td>\n",
       "      <td>...</td>\n",
       "      <td>3709.395</td>\n",
       "      <td>9</td>\n",
       "      <td>0.1</td>\n",
       "      <td>-288.7650</td>\n",
       "      <td>923.630</td>\n",
       "      <td>Critical</td>\n",
       "      <td>2</td>\n",
       "      <td>0</td>\n",
       "      <td>0</td>\n",
       "      <td>Yes</td>\n",
       "    </tr>\n",
       "    <tr>\n",
       "      <th>2</th>\n",
       "      <td>25330</td>\n",
       "      <td>IN-2013-71249</td>\n",
       "      <td>2013-10-17</td>\n",
       "      <td>October</td>\n",
       "      <td>Thursday</td>\n",
       "      <td>2013</td>\n",
       "      <td>2013-10-18</td>\n",
       "      <td>First Class</td>\n",
       "      <td>CR-12730</td>\n",
       "      <td>Craig Reiter</td>\n",
       "      <td>...</td>\n",
       "      <td>5175.171</td>\n",
       "      <td>9</td>\n",
       "      <td>0.1</td>\n",
       "      <td>919.9710</td>\n",
       "      <td>915.490</td>\n",
       "      <td>Medium</td>\n",
       "      <td>1</td>\n",
       "      <td>0</td>\n",
       "      <td>1</td>\n",
       "      <td>No</td>\n",
       "    </tr>\n",
       "    <tr>\n",
       "      <th>3</th>\n",
       "      <td>13524</td>\n",
       "      <td>ES-2013-1579342</td>\n",
       "      <td>2013-01-28</td>\n",
       "      <td>January</td>\n",
       "      <td>Monday</td>\n",
       "      <td>2013</td>\n",
       "      <td>2013-01-30</td>\n",
       "      <td>First Class</td>\n",
       "      <td>KM-16375</td>\n",
       "      <td>Katherine Murray</td>\n",
       "      <td>...</td>\n",
       "      <td>2892.510</td>\n",
       "      <td>5</td>\n",
       "      <td>0.1</td>\n",
       "      <td>-96.5400</td>\n",
       "      <td>910.160</td>\n",
       "      <td>Medium</td>\n",
       "      <td>2</td>\n",
       "      <td>0</td>\n",
       "      <td>0</td>\n",
       "      <td>No</td>\n",
       "    </tr>\n",
       "    <tr>\n",
       "      <th>4</th>\n",
       "      <td>47221</td>\n",
       "      <td>SG-2013-4320</td>\n",
       "      <td>2013-11-05</td>\n",
       "      <td>November</td>\n",
       "      <td>Tuesday</td>\n",
       "      <td>2013</td>\n",
       "      <td>2013-11-06</td>\n",
       "      <td>Same Day</td>\n",
       "      <td>RH-9495</td>\n",
       "      <td>Rick Hansen</td>\n",
       "      <td>...</td>\n",
       "      <td>2832.960</td>\n",
       "      <td>8</td>\n",
       "      <td>0.0</td>\n",
       "      <td>311.5200</td>\n",
       "      <td>903.040</td>\n",
       "      <td>Critical</td>\n",
       "      <td>1</td>\n",
       "      <td>0</td>\n",
       "      <td>1</td>\n",
       "      <td>No</td>\n",
       "    </tr>\n",
       "    <tr>\n",
       "      <th>...</th>\n",
       "      <td>...</td>\n",
       "      <td>...</td>\n",
       "      <td>...</td>\n",
       "      <td>...</td>\n",
       "      <td>...</td>\n",
       "      <td>...</td>\n",
       "      <td>...</td>\n",
       "      <td>...</td>\n",
       "      <td>...</td>\n",
       "      <td>...</td>\n",
       "      <td>...</td>\n",
       "      <td>...</td>\n",
       "      <td>...</td>\n",
       "      <td>...</td>\n",
       "      <td>...</td>\n",
       "      <td>...</td>\n",
       "      <td>...</td>\n",
       "      <td>...</td>\n",
       "      <td>...</td>\n",
       "      <td>...</td>\n",
       "      <td>...</td>\n",
       "    </tr>\n",
       "    <tr>\n",
       "      <th>51290</th>\n",
       "      <td>29002</td>\n",
       "      <td>IN-2014-62366</td>\n",
       "      <td>2014-06-19</td>\n",
       "      <td>June</td>\n",
       "      <td>Thursday</td>\n",
       "      <td>2014</td>\n",
       "      <td>2014-06-19</td>\n",
       "      <td>Same Day</td>\n",
       "      <td>KE-16420</td>\n",
       "      <td>Katrina Edelman</td>\n",
       "      <td>...</td>\n",
       "      <td>65.100</td>\n",
       "      <td>5</td>\n",
       "      <td>0.0</td>\n",
       "      <td>4.5000</td>\n",
       "      <td>0.010</td>\n",
       "      <td>Medium</td>\n",
       "      <td>0</td>\n",
       "      <td>0</td>\n",
       "      <td>1</td>\n",
       "      <td>Yes</td>\n",
       "    </tr>\n",
       "    <tr>\n",
       "      <th>51291</th>\n",
       "      <td>35398</td>\n",
       "      <td>US-2014-102288</td>\n",
       "      <td>2014-06-20</td>\n",
       "      <td>June</td>\n",
       "      <td>Friday</td>\n",
       "      <td>2014</td>\n",
       "      <td>2014-06-24</td>\n",
       "      <td>Standard Class</td>\n",
       "      <td>ZC-21910</td>\n",
       "      <td>Zuschuss Carroll</td>\n",
       "      <td>...</td>\n",
       "      <td>0.444</td>\n",
       "      <td>1</td>\n",
       "      <td>0.8</td>\n",
       "      <td>-1.1100</td>\n",
       "      <td>0.010</td>\n",
       "      <td>Medium</td>\n",
       "      <td>4</td>\n",
       "      <td>1</td>\n",
       "      <td>0</td>\n",
       "      <td>No</td>\n",
       "    </tr>\n",
       "    <tr>\n",
       "      <th>51292</th>\n",
       "      <td>40470</td>\n",
       "      <td>US-2013-155768</td>\n",
       "      <td>2013-12-02</td>\n",
       "      <td>December</td>\n",
       "      <td>Monday</td>\n",
       "      <td>2013</td>\n",
       "      <td>2013-12-02</td>\n",
       "      <td>Same Day</td>\n",
       "      <td>LB-16795</td>\n",
       "      <td>Laurel Beltran</td>\n",
       "      <td>...</td>\n",
       "      <td>22.920</td>\n",
       "      <td>3</td>\n",
       "      <td>0.0</td>\n",
       "      <td>11.2308</td>\n",
       "      <td>0.010</td>\n",
       "      <td>High</td>\n",
       "      <td>0</td>\n",
       "      <td>0</td>\n",
       "      <td>1</td>\n",
       "      <td>No</td>\n",
       "    </tr>\n",
       "    <tr>\n",
       "      <th>51293</th>\n",
       "      <td>9596</td>\n",
       "      <td>MX-2012-140767</td>\n",
       "      <td>2012-02-18</td>\n",
       "      <td>February</td>\n",
       "      <td>Saturday</td>\n",
       "      <td>2012</td>\n",
       "      <td>2012-02-22</td>\n",
       "      <td>Standard Class</td>\n",
       "      <td>RB-19795</td>\n",
       "      <td>Ross Baird</td>\n",
       "      <td>...</td>\n",
       "      <td>13.440</td>\n",
       "      <td>2</td>\n",
       "      <td>0.0</td>\n",
       "      <td>2.4000</td>\n",
       "      <td>0.003</td>\n",
       "      <td>Medium</td>\n",
       "      <td>4</td>\n",
       "      <td>0</td>\n",
       "      <td>1</td>\n",
       "      <td>No</td>\n",
       "    </tr>\n",
       "    <tr>\n",
       "      <th>51294</th>\n",
       "      <td>6147</td>\n",
       "      <td>MX-2012-134460</td>\n",
       "      <td>2012-05-22</td>\n",
       "      <td>May</td>\n",
       "      <td>Tuesday</td>\n",
       "      <td>2012</td>\n",
       "      <td>2012-05-26</td>\n",
       "      <td>Second Class</td>\n",
       "      <td>MC-18100</td>\n",
       "      <td>Mick Crebagga</td>\n",
       "      <td>...</td>\n",
       "      <td>61.380</td>\n",
       "      <td>3</td>\n",
       "      <td>0.0</td>\n",
       "      <td>1.8000</td>\n",
       "      <td>0.002</td>\n",
       "      <td>High</td>\n",
       "      <td>4</td>\n",
       "      <td>0</td>\n",
       "      <td>1</td>\n",
       "      <td>No</td>\n",
       "    </tr>\n",
       "  </tbody>\n",
       "</table>\n",
       "<p>51295 rows × 31 columns</p>\n",
       "</div>"
      ],
      "text/plain": [
       "       Row ID         Order ID Order Date Order Month Name Order Weekday  \\\n",
       "0       32298   CA-2012-124891 2012-07-31             July       Tuesday   \n",
       "1       26341    IN-2013-77878 2013-02-05         February       Tuesday   \n",
       "2       25330    IN-2013-71249 2013-10-17          October      Thursday   \n",
       "3       13524  ES-2013-1579342 2013-01-28          January        Monday   \n",
       "4       47221     SG-2013-4320 2013-11-05         November       Tuesday   \n",
       "...       ...              ...        ...              ...           ...   \n",
       "51290   29002    IN-2014-62366 2014-06-19             June      Thursday   \n",
       "51291   35398   US-2014-102288 2014-06-20             June        Friday   \n",
       "51292   40470   US-2013-155768 2013-12-02         December        Monday   \n",
       "51293    9596   MX-2012-140767 2012-02-18         February      Saturday   \n",
       "51294    6147   MX-2012-134460 2012-05-22              May       Tuesday   \n",
       "\n",
       "       Order Year  Ship Date       Ship Mode Customer ID     Customer Name  \\\n",
       "0            2012 2012-07-31        Same Day    RH-19495       Rick Hansen   \n",
       "1            2013 2013-02-07    Second Class    JR-16210     Justin Ritter   \n",
       "2            2013 2013-10-18     First Class    CR-12730      Craig Reiter   \n",
       "3            2013 2013-01-30     First Class    KM-16375  Katherine Murray   \n",
       "4            2013 2013-11-06        Same Day     RH-9495       Rick Hansen   \n",
       "...           ...        ...             ...         ...               ...   \n",
       "51290        2014 2014-06-19        Same Day    KE-16420   Katrina Edelman   \n",
       "51291        2014 2014-06-24  Standard Class    ZC-21910  Zuschuss Carroll   \n",
       "51292        2013 2013-12-02        Same Day    LB-16795    Laurel Beltran   \n",
       "51293        2012 2012-02-22  Standard Class    RB-19795        Ross Baird   \n",
       "51294        2012 2012-05-26    Second Class    MC-18100     Mick Crebagga   \n",
       "\n",
       "       ...     Sales Quantity Discount    Profit  Shipping Cost  \\\n",
       "0      ...  2309.650        7      0.0  762.1845        933.570   \n",
       "1      ...  3709.395        9      0.1 -288.7650        923.630   \n",
       "2      ...  5175.171        9      0.1  919.9710        915.490   \n",
       "3      ...  2892.510        5      0.1  -96.5400        910.160   \n",
       "4      ...  2832.960        8      0.0  311.5200        903.040   \n",
       "...    ...       ...      ...      ...       ...            ...   \n",
       "51290  ...    65.100        5      0.0    4.5000          0.010   \n",
       "51291  ...     0.444        1      0.8   -1.1100          0.010   \n",
       "51292  ...    22.920        3      0.0   11.2308          0.010   \n",
       "51293  ...    13.440        2      0.0    2.4000          0.003   \n",
       "51294  ...    61.380        3      0.0    1.8000          0.002   \n",
       "\n",
       "      Order Priority Ship Days High Discount Profitable Returned  \n",
       "0           Critical         0             0          1       No  \n",
       "1           Critical         2             0          0      Yes  \n",
       "2             Medium         1             0          1       No  \n",
       "3             Medium         2             0          0       No  \n",
       "4           Critical         1             0          1       No  \n",
       "...              ...       ...           ...        ...      ...  \n",
       "51290         Medium         0             0          1      Yes  \n",
       "51291         Medium         4             1          0       No  \n",
       "51292           High         0             0          1       No  \n",
       "51293         Medium         4             0          1       No  \n",
       "51294           High         4             0          1       No  \n",
       "\n",
       "[51295 rows x 31 columns]"
      ]
     },
     "execution_count": 174,
     "metadata": {},
     "output_type": "execute_result"
    }
   ],
   "source": [
    "final"
   ]
  },
  {
   "cell_type": "code",
   "execution_count": 183,
   "id": "3a007296-d809-475e-9b80-183a390ad8c2",
   "metadata": {},
   "outputs": [
    {
     "data": {
      "image/png": "[encoded data removed]",
      "text/plain": [
       "<Figure size 800x500 with 1 Axes>"
      ]
     },
     "metadata": {},
     "output_type": "display_data"
    }
   ],
   "source": [
    "yearly_sales = final.groupby(\"Order Year\")[\"Sales\"].sum()\n",
    "\n",
    "plt.figure(figsize=(8,5))\n",
    "yearly_sales.plot(kind=\"bar\", color=\"skyblue\")\n",
    "plt.title(\"Yearly Sales Trend\")\n",
    "plt.xlabel(\"Year\")\n",
    "plt.ylabel(\"Total Sales\")\n",
    "plt.show()\n"
   ]
  },
  {
   "cell_type": "code",
   "execution_count": 184,
   "id": "2d495efd-4d46-4690-9f73-2eceeac1560e",
   "metadata": {},
   "outputs": [
    {
     "data": {
      "image/png": "[encoded data removed]",
      "text/plain": [
       "<Figure size 1200x600 with 1 Axes>"
      ]
     },
     "metadata": {},
     "output_type": "display_data"
    }
   ],
   "source": [
    "top_products = final.groupby(\"Product Name\")[\"Profit\"].sum().sort_values(ascending=False).head(10)\n",
    "\n",
    "plt.figure(figsize=(12,6))\n",
    "top_products.plot(kind=\"bar\", color=\"skyblue\")\n",
    "plt.title(\"Top 10 Products by Profit\")\n",
    "plt.xlabel(\"Product Name\")\n",
    "plt.ylabel(\"Profit\")\n",
    "plt.xticks(rotation=45, ha='right')\n",
    "plt.show()\n"
   ]
  },
  {
   "cell_type": "code",
   "execution_count": 185,
   "id": "50bb0304-74bb-4e0f-9a47-0bc25317b461",
   "metadata": {},
   "outputs": [
    {
     "data": {
      "image/png": "[encoded data removed]",
      "text/plain": [
       "<Figure size 600x600 with 1 Axes>"
      ]
     },
     "metadata": {},
     "output_type": "display_data"
    }
   ],
   "source": [
    "returns_dist = final[\"Returned\"].value_counts()\n",
    "\n",
    "plt.figure(figsize=(6,6))\n",
    "returns_dist.plot(kind=\"pie\", autopct='%1.1f%%', startangle=90, colors=[\"lightcoral\", \"lightgreen\"])\n",
    "plt.title(\"Returned vs Non-Returned Orders\")\n",
    "plt.ylabel(\"\")\n",
    "plt.show()\n"
   ]
  },
  {
   "cell_type": "code",
   "execution_count": null,
   "id": "65ce6cbc-ebbf-47f1-a39f-ab3132640974",
   "metadata": {},
   "outputs": [],
   "source": []
  }
 ],
 "metadata": {
  "kernelspec": {
   "display_name": "Python [conda env:base] *",
   "language": "python",
   "name": "conda-base-py"
  },
  "language_info": {
   "codemirror_mode": {
    "name": "ipython",
    "version": 3
   },
   "file_extension": ".py",
   "mimetype": "text/x-python",
   "name": "python",
   "nbconvert_exporter": "python",
   "pygments_lexer": "ipython3",
   "version": "3.13.5"
  }
 },
 "nbformat": 4,
 "nbformat_minor": 5
}
